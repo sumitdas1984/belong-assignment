{
 "cells": [
  {
   "cell_type": "code",
   "execution_count": 16,
   "metadata": {},
   "outputs": [],
   "source": [
    "import pandas as pd\n",
    "from scipy.spatial.distance import cosine"
   ]
  },
  {
   "cell_type": "markdown",
   "metadata": {},
   "source": [
    "## Reading the imdb top 250 movie dataset"
   ]
  },
  {
   "cell_type": "code",
   "execution_count": 31,
   "metadata": {
    "scrolled": true
   },
   "outputs": [
    {
     "data": {
      "text/html": [
       "<div>\n",
       "<style>\n",
       "    .dataframe thead tr:only-child th {\n",
       "        text-align: right;\n",
       "    }\n",
       "\n",
       "    .dataframe thead th {\n",
       "        text-align: left;\n",
       "    }\n",
       "\n",
       "    .dataframe tbody tr th {\n",
       "        vertical-align: top;\n",
       "    }\n",
       "</style>\n",
       "<table border=\"1\" class=\"dataframe\">\n",
       "  <thead>\n",
       "    <tr style=\"text-align: right;\">\n",
       "      <th></th>\n",
       "      <th>Id</th>\n",
       "      <th>Title</th>\n",
       "      <th>Year</th>\n",
       "      <th>Runtime</th>\n",
       "      <th>Languege</th>\n",
       "      <th>Country</th>\n",
       "      <th>Genre</th>\n",
       "      <th>Director</th>\n",
       "      <th>Writer</th>\n",
       "      <th>Actors</th>\n",
       "      <th>Production</th>\n",
       "      <th>IMDB_Rating</th>\n",
       "    </tr>\n",
       "  </thead>\n",
       "  <tbody>\n",
       "    <tr>\n",
       "      <th>0</th>\n",
       "      <td>111161</td>\n",
       "      <td>The Shawshank Redemption</td>\n",
       "      <td>1994</td>\n",
       "      <td>142</td>\n",
       "      <td>English</td>\n",
       "      <td>USA</td>\n",
       "      <td>Crime|Drama</td>\n",
       "      <td>Frank Darabont</td>\n",
       "      <td>Stephen King|Frank Darabont</td>\n",
       "      <td>Tim Robbins|Morgan Freeman|Bob Gunton|William ...</td>\n",
       "      <td>Castle Rock Entertainment</td>\n",
       "      <td>9.3</td>\n",
       "    </tr>\n",
       "    <tr>\n",
       "      <th>1</th>\n",
       "      <td>68646</td>\n",
       "      <td>The Godfather</td>\n",
       "      <td>1972</td>\n",
       "      <td>175</td>\n",
       "      <td>English|Italian|Latin</td>\n",
       "      <td>USA</td>\n",
       "      <td>Crime|Drama</td>\n",
       "      <td>Francis Ford Coppola</td>\n",
       "      <td>Mario Puzo|Francis Ford Coppola|Mario Puzo</td>\n",
       "      <td>Marlon Brando|Al Pacino|James Caan|Richard S. ...</td>\n",
       "      <td>Paramount Pictures|Alfran Productions</td>\n",
       "      <td>9.2</td>\n",
       "    </tr>\n",
       "  </tbody>\n",
       "</table>\n",
       "</div>"
      ],
      "text/plain": [
       "       Id                     Title  Year Runtime               Languege  \\\n",
       "0  111161  The Shawshank Redemption  1994     142                English   \n",
       "1   68646             The Godfather  1972     175  English|Italian|Latin   \n",
       "\n",
       "  Country        Genre              Director  \\\n",
       "0     USA  Crime|Drama        Frank Darabont   \n",
       "1     USA  Crime|Drama  Francis Ford Coppola   \n",
       "\n",
       "                                       Writer  \\\n",
       "0                 Stephen King|Frank Darabont   \n",
       "1  Mario Puzo|Francis Ford Coppola|Mario Puzo   \n",
       "\n",
       "                                              Actors  \\\n",
       "0  Tim Robbins|Morgan Freeman|Bob Gunton|William ...   \n",
       "1  Marlon Brando|Al Pacino|James Caan|Richard S. ...   \n",
       "\n",
       "                              Production  IMDB_Rating  \n",
       "0              Castle Rock Entertainment          9.3  \n",
       "1  Paramount Pictures|Alfran Productions          9.2  "
      ]
     },
     "execution_count": 31,
     "metadata": {},
     "output_type": "execute_result"
    }
   ],
   "source": [
    "movie_data = pd.read_csv(\"imdb-top250.csv\",delimiter=\"#\")\n",
    "movie_data.head(2)"
   ]
  },
  {
   "cell_type": "markdown",
   "metadata": {},
   "source": [
    "## Generating the binary genre features for the movie dataset"
   ]
  },
  {
   "cell_type": "code",
   "execution_count": 22,
   "metadata": {},
   "outputs": [],
   "source": [
    "def get_all_genres(genres):\n",
    "    g_list = genres.tolist()\n",
    "    genre = set()\n",
    "    for x in g_list:\n",
    "        y = x.split('|')\n",
    "        genre.update(y)\n",
    "    return list(genre)\n",
    "    \n",
    "def generate_featured_dataset(movie_data):\n",
    "    movie_data_featured = movie_data.copy(deep=True)\n",
    "    ### To get all genres\n",
    "    genres = get_all_genres(movie_data_featured['Genre'])\n",
    "\n",
    "    for g in genres:\n",
    "        movie_data_featured[g] = 0\n",
    "    \n",
    "    for i, row in movie_data_featured.iterrows():\n",
    "        g = row['Genre']\n",
    "        g_list = g.split('|')\n",
    "        for x in g_list:\n",
    "            movie_data_featured.set_value(i,x,1)\n",
    "    return movie_data_featured"
   ]
  },
  {
   "cell_type": "markdown",
   "metadata": {},
   "source": [
    "## Some preprocessing and cleaning of the dataset"
   ]
  },
  {
   "cell_type": "code",
   "execution_count": 26,
   "metadata": {},
   "outputs": [],
   "source": [
    "movie_data_featured = generate_featured_dataset(movie_data)\n",
    "### To remove duplicates\n",
    "movie_data_featured = movie_data_featured.drop_duplicates(subset='Title', keep=\"last\")\n",
    "### To convert title to lower case\n",
    "movie_data_featured['Title'] = movie_data_featured['Title'].str.lower()"
   ]
  },
  {
   "cell_type": "markdown",
   "metadata": {},
   "source": [
    "## Get subset of movies which have common features with the queried movie"
   ]
  },
  {
   "cell_type": "code",
   "execution_count": 28,
   "metadata": {},
   "outputs": [],
   "source": [
    "def get_movies_by_common_actors(vec1, data):\n",
    "    cols = data.columns\n",
    "    df_temp = pd.DataFrame(columns=cols)\n",
    "\n",
    "    f1=vec1.Actors.split('|')\n",
    "    for i, row in data.iterrows():\n",
    "        f2 = row.Actors.split('|')\n",
    "        flag = not set(f1).isdisjoint(f2)\n",
    "        if flag:\n",
    "            df_temp = df_temp.append(row)  \n",
    "    return df_temp\n",
    "        \n",
    "def get_movies_by_common_directors(vec1, data):\n",
    "    cols = data.columns\n",
    "    df_temp = pd.DataFrame(columns=cols)\n",
    "\n",
    "    f1=vec1.Director.split('|')\n",
    "    for i, row in data.iterrows():\n",
    "        f2 = row.Director.split('|')\n",
    "        flag = not set(f1).isdisjoint(f2)\n",
    "        if flag:\n",
    "            df_temp = df_temp.append(row)\n",
    "    return df_temp\n",
    "\n",
    "def get_movies_by_common_writer(vec1, data):\n",
    "    cols = data.columns\n",
    "    df_temp = pd.DataFrame(columns=cols)\n",
    "\n",
    "    f1=vec1.Writer.split('|')\n",
    "    for i, row in data.iterrows():\n",
    "        f2 = row.Writer.split('|')\n",
    "        flag = not set(f1).isdisjoint(f2)\n",
    "        if flag:\n",
    "            df_temp = df_temp.append(row)\n",
    "    return df_temp\n",
    "\n",
    "def get_movies_by_common_production(vec1, data):\n",
    "    cols = data.columns\n",
    "    df_temp = pd.DataFrame(columns=cols)\n",
    "\n",
    "    f1=vec1.Production.split('|')\n",
    "    for i, row in data.iterrows():\n",
    "        f2 = row.Production.split('|')\n",
    "        flag = not set(f1).isdisjoint(f2)\n",
    "        if flag:\n",
    "            df_temp = df_temp.append(row)\n",
    "    return df_temp"
   ]
  },
  {
   "cell_type": "markdown",
   "metadata": {},
   "source": [
    "## Finding similar movies based on vector similarity"
   ]
  },
  {
   "cell_type": "code",
   "execution_count": 29,
   "metadata": {},
   "outputs": [],
   "source": [
    "def similarity(row, vec2):\n",
    "    s = 1 - cosine(row, vec2)\n",
    "    return s\n",
    "\n",
    "def recommand_movies(movie_data, movie):\n",
    "    movie = movie.lower()\n",
    "    vec1=movie_data[movie_data.Title==movie].iloc[0]\n",
    "    df1 = get_movies_by_common_actors(vec1,movie_data)\n",
    "    df2 = get_movies_by_common_directors(vec1,movie_data)\n",
    "    df3 = get_movies_by_common_writer(vec1,movie_data)\n",
    "    df4 = get_movies_by_common_writer(vec1,movie_data)\n",
    "\n",
    "    cols = movie_data.columns\n",
    "    movie_matched = pd.DataFrame(columns=cols)\n",
    "    \n",
    "    movie_matched = movie_matched.append(df1)\n",
    "    movie_matched = movie_matched.append(df2)\n",
    "    movie_matched = movie_matched.append(df3)\n",
    "    movie_matched = movie_matched.append(df4)\n",
    "\n",
    "    ### To remove duplicates\n",
    "    movie_matched = movie_matched.drop_duplicates(subset='Title', keep=\"last\")\n",
    "\n",
    "    ### To remove duplicates\n",
    "    movie_matched = movie_matched[movie_matched['Title'] != movie]\n",
    "\n",
    "    ### features used to calculate similarity\n",
    "    features = movie_matched.iloc[:,11:]\n",
    "    vec2 = vec1.iloc[11:]\n",
    "\n",
    "    sim = features.apply(similarity, args=(vec2,), axis=1)\n",
    "\n",
    "    data = pd.DataFrame({\"Title\":movie_matched.Title, \"similarity\":sim})\n",
    "    ### to sort according to similarity\n",
    "    data = data.sort_values(['similarity','Title'], ascending=False)\n",
    "    \n",
    "    return data    "
   ]
  },
  {
   "cell_type": "markdown",
   "metadata": {},
   "source": [
    "## Run few examples to see how it works"
   ]
  },
  {
   "cell_type": "code",
   "execution_count": 30,
   "metadata": {},
   "outputs": [
    {
     "data": {
      "text/html": [
       "<div>\n",
       "<style>\n",
       "    .dataframe thead tr:only-child th {\n",
       "        text-align: right;\n",
       "    }\n",
       "\n",
       "    .dataframe thead th {\n",
       "        text-align: left;\n",
       "    }\n",
       "\n",
       "    .dataframe tbody tr th {\n",
       "        vertical-align: top;\n",
       "    }\n",
       "</style>\n",
       "<table border=\"1\" class=\"dataframe\">\n",
       "  <thead>\n",
       "    <tr style=\"text-align: right;\">\n",
       "      <th></th>\n",
       "      <th>Title</th>\n",
       "      <th>similarity</th>\n",
       "    </tr>\n",
       "  </thead>\n",
       "  <tbody>\n",
       "    <tr>\n",
       "      <th>249</th>\n",
       "      <td>pk</td>\n",
       "      <td>0.992848</td>\n",
       "    </tr>\n",
       "    <tr>\n",
       "      <th>234</th>\n",
       "      <td>munna bhai m.b.b.s.</td>\n",
       "      <td>0.992848</td>\n",
       "    </tr>\n",
       "    <tr>\n",
       "      <th>79</th>\n",
       "      <td>taare zameen par</td>\n",
       "      <td>0.986374</td>\n",
       "    </tr>\n",
       "    <tr>\n",
       "      <th>175</th>\n",
       "      <td>rang de basanti</td>\n",
       "      <td>0.986183</td>\n",
       "    </tr>\n",
       "    <tr>\n",
       "      <th>70</th>\n",
       "      <td>dangal</td>\n",
       "      <td>0.973787</td>\n",
       "    </tr>\n",
       "  </tbody>\n",
       "</table>\n",
       "</div>"
      ],
      "text/plain": [
       "                   Title  similarity\n",
       "249                   pk    0.992848\n",
       "234  munna bhai m.b.b.s.    0.992848\n",
       "79      taare zameen par    0.986374\n",
       "175      rang de basanti    0.986183\n",
       "70                dangal    0.973787"
      ]
     },
     "execution_count": 30,
     "metadata": {},
     "output_type": "execute_result"
    }
   ],
   "source": [
    "### movie --> queried movie\n",
    "# movie=\"Pulp Fiction\"\n",
    "# movie=\"Shichinin No Samurai\"\n",
    "# movie=\"The Godfather\"\n",
    "# movie=\"Interstellar\"\n",
    "movie=\"3 idiots\"\n",
    "# movie=\"Dangal\"\n",
    "\n",
    "data=recommand_movies(movie_data_featured,movie)\n",
    "data.head(5)"
   ]
  }
 ],
 "metadata": {
  "kernelspec": {
   "display_name": "Python 2",
   "language": "python",
   "name": "python2"
  },
  "language_info": {
   "codemirror_mode": {
    "name": "ipython",
    "version": 2
   },
   "file_extension": ".py",
   "mimetype": "text/x-python",
   "name": "python",
   "nbconvert_exporter": "python",
   "pygments_lexer": "ipython2",
   "version": "2.7.12"
  }
 },
 "nbformat": 4,
 "nbformat_minor": 2
}
